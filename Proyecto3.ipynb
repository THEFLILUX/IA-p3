{
 "cells": [
  {
   "cell_type": "code",
   "execution_count": 17,
   "metadata": {},
   "outputs": [],
   "source": [
    "import pandas as pd\n",
    "import librosa\n",
    "import os\n",
    "import numpy as np"
   ]
  },
  {
   "cell_type": "code",
   "execution_count": 69,
   "metadata": {},
   "outputs": [],
   "source": [
    "def load_data(path_file : str):\n",
    "    \"\"\"\n",
    "    Carga los audios con librosa y los convierte en un dataframe\n",
    "    \"\"\"\n",
    "    data_song = os.path.join(path_file, \"Song\")\n",
    "    data_speech = os.path.join(path_file, \"Speech\")\n",
    "\n",
    "    labels = []\n",
    "    data = []\n",
    "    for actor in os.listdir(data_song):\n",
    "        actor_path = os.path.join(data_song, actor)\n",
    "        for file in os.listdir(actor_path):\n",
    "            file_path = os.path.join(actor_path, file)\n",
    "            # Load audio file with Librosa\n",
    "            y, sr = librosa.load(file_path)\n",
    "            # Apply MFCC transformation\n",
    "            mfcc = librosa.feature.mfcc(y=y, sr=sr, n_mfcc=1024)\n",
    "            # Append to data\n",
    "            data.append(mfcc)\n",
    "            labels.append(actor_path[-2:])\n",
    "\n",
    "    for actor in os.listdir(data_speech):\n",
    "        actor_path = os.path.join(data_speech, actor)\n",
    "        for file in os.listdir(actor_path):\n",
    "            file_path = os.path.join(actor_path, file)\n",
    "            # Load audio file with Librosa\n",
    "            y, sr = librosa.load(file_path)\n",
    "            # Apply MFCC transformation\n",
    "            mfcc = librosa.feature.mfcc(y=y, sr=sr, n_mfcc=13)\n",
    "            # Append to data\n",
    "            data.append(mfcc)\n",
    "            labels.append(actor_path[-2:])\n",
    "\n",
    "    return data, labels\n",
    "\n",
    "data, labels = load_data(\"sound_dataset\")\n",
    "\n",
    "max_len = 1024\n",
    "# Convert data and labels to numpy arrays\n",
    "# max_len = 0 \n",
    "# for d in data:\n",
    "#     if d.shape[1] > max_len:\n",
    "#         max_len = d.shape[1]\n",
    "        \n",
    "# Expand each MFCC to have the same shape by filling with zeros\n",
    "for i in range(len(data)):\n",
    "    data[i] = np.pad(data[i], ((0, 0), (0, max_len - data[i].shape[1])), mode='constant')\n",
    "\n",
    "data_np = np.array(data)\n",
    "\n",
    "# Create dataframe and add label to last column\n",
    "df = pd.DataFrame(data_np.reshape(data_np.shape[0], data_np.shape[1] * data_np.shape[2]))\n",
    "\n",
    "for i in range(len(labels)):\n",
    "    df.loc[i, 'label'] = labels[i]"
   ]
  },
  {
   "cell_type": "code",
   "execution_count": 70,
   "metadata": {},
   "outputs": [],
   "source": [
    "# Split dataframe into train and test sets\n",
    "train = df.sample(frac=0.8, random_state=0)\n",
    "test = df.drop(train.index)\n",
    "\n",
    "# Save train and test sets to CSV\n",
    "train.to_csv('train.csv', index=False)\n",
    "test.to_csv('test.csv', index=False)\n",
    "\n"
   ]
  },
  {
   "cell_type": "code",
   "execution_count": 68,
   "metadata": {},
   "outputs": [
    {
     "data": {
      "text/plain": [
       "(2429, 13, 275)"
      ]
     },
     "execution_count": 68,
     "metadata": {},
     "output_type": "execute_result"
    }
   ],
   "source": [
    "data_np.shape"
   ]
  },
  {
   "cell_type": "code",
   "execution_count": null,
   "metadata": {},
   "outputs": [],
   "source": []
  }
 ],
 "metadata": {
  "kernelspec": {
   "display_name": "venv",
   "language": "python",
   "name": "python3"
  },
  "language_info": {
   "codemirror_mode": {
    "name": "ipython",
    "version": 3
   },
   "file_extension": ".py",
   "mimetype": "text/x-python",
   "name": "python",
   "nbconvert_exporter": "python",
   "pygments_lexer": "ipython3",
   "version": "3.9.12"
  },
  "orig_nbformat": 4
 },
 "nbformat": 4,
 "nbformat_minor": 2
}
